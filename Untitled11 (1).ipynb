{
 "cells": [
  {
   "cell_type": "code",
   "execution_count": 1,
   "id": "9c28621d-b8ec-40f3-981a-9b9c99b8d7f0",
   "metadata": {},
   "outputs": [],
   "source": [
    "import pandas as pd\n",
    "import numpy as np\n",
    "import matplotlib.pyplot as plt\n",
    "import seaborn as sns"
   ]
  },
  {
   "cell_type": "code",
   "execution_count": 2,
   "id": "54faa037-4fb9-4536-8146-94d80c1751d9",
   "metadata": {},
   "outputs": [
    {
     "data": {
      "text/html": [
       "<div>\n",
       "<style scoped>\n",
       "    .dataframe tbody tr th:only-of-type {\n",
       "        vertical-align: middle;\n",
       "    }\n",
       "\n",
       "    .dataframe tbody tr th {\n",
       "        vertical-align: top;\n",
       "    }\n",
       "\n",
       "    .dataframe thead th {\n",
       "        text-align: right;\n",
       "    }\n",
       "</style>\n",
       "<table border=\"1\" class=\"dataframe\">\n",
       "  <thead>\n",
       "    <tr style=\"text-align: right;\">\n",
       "      <th></th>\n",
       "      <th>UserId</th>\n",
       "      <th>ProductId</th>\n",
       "      <th>Rating</th>\n",
       "      <th>Timestamp</th>\n",
       "    </tr>\n",
       "  </thead>\n",
       "  <tbody>\n",
       "    <tr>\n",
       "      <th>0</th>\n",
       "      <td>A39HTATAQ9V7YF</td>\n",
       "      <td>205616461</td>\n",
       "      <td>5</td>\n",
       "      <td>1369699200</td>\n",
       "    </tr>\n",
       "    <tr>\n",
       "      <th>1</th>\n",
       "      <td>A3JM6GV9MNOF9X</td>\n",
       "      <td>558925278</td>\n",
       "      <td>3</td>\n",
       "      <td>1355443200</td>\n",
       "    </tr>\n",
       "    <tr>\n",
       "      <th>2</th>\n",
       "      <td>A1Z513UWSAAO0F</td>\n",
       "      <td>558925278</td>\n",
       "      <td>5</td>\n",
       "      <td>1404691200</td>\n",
       "    </tr>\n",
       "    <tr>\n",
       "      <th>3</th>\n",
       "      <td>A1WMRR494NWEWV</td>\n",
       "      <td>733001998</td>\n",
       "      <td>4</td>\n",
       "      <td>1382572800</td>\n",
       "    </tr>\n",
       "    <tr>\n",
       "      <th>4</th>\n",
       "      <td>A3IAAVS479H7M7</td>\n",
       "      <td>737104473</td>\n",
       "      <td>1</td>\n",
       "      <td>1274227200</td>\n",
       "    </tr>\n",
       "    <tr>\n",
       "      <th>...</th>\n",
       "      <td>...</td>\n",
       "      <td>...</td>\n",
       "      <td>...</td>\n",
       "      <td>...</td>\n",
       "    </tr>\n",
       "    <tr>\n",
       "      <th>1048570</th>\n",
       "      <td>A31P1LMEXJ8MML</td>\n",
       "      <td>B003H897AQ</td>\n",
       "      <td>1</td>\n",
       "      <td>1334448000</td>\n",
       "    </tr>\n",
       "    <tr>\n",
       "      <th>1048571</th>\n",
       "      <td>A6U8SW1MFX122</td>\n",
       "      <td>B003H897AQ</td>\n",
       "      <td>4</td>\n",
       "      <td>1361404800</td>\n",
       "    </tr>\n",
       "    <tr>\n",
       "      <th>1048572</th>\n",
       "      <td>A2ND0PP8HY7KBE</td>\n",
       "      <td>B003H897AQ</td>\n",
       "      <td>1</td>\n",
       "      <td>1372464000</td>\n",
       "    </tr>\n",
       "    <tr>\n",
       "      <th>1048573</th>\n",
       "      <td>AC9W044EAHP8P</td>\n",
       "      <td>B003H897AQ</td>\n",
       "      <td>1</td>\n",
       "      <td>1392768000</td>\n",
       "    </tr>\n",
       "    <tr>\n",
       "      <th>1048574</th>\n",
       "      <td>AXCFH81C3PM6O</td>\n",
       "      <td>B003H897AQ</td>\n",
       "      <td>4</td>\n",
       "      <td>1366070400</td>\n",
       "    </tr>\n",
       "  </tbody>\n",
       "</table>\n",
       "<p>1048575 rows × 4 columns</p>\n",
       "</div>"
      ],
      "text/plain": [
       "                 UserId   ProductId  Rating   Timestamp\n",
       "0        A39HTATAQ9V7YF   205616461       5  1369699200\n",
       "1        A3JM6GV9MNOF9X   558925278       3  1355443200\n",
       "2        A1Z513UWSAAO0F   558925278       5  1404691200\n",
       "3        A1WMRR494NWEWV   733001998       4  1382572800\n",
       "4        A3IAAVS479H7M7   737104473       1  1274227200\n",
       "...                 ...         ...     ...         ...\n",
       "1048570  A31P1LMEXJ8MML  B003H897AQ       1  1334448000\n",
       "1048571   A6U8SW1MFX122  B003H897AQ       4  1361404800\n",
       "1048572  A2ND0PP8HY7KBE  B003H897AQ       1  1372464000\n",
       "1048573   AC9W044EAHP8P  B003H897AQ       1  1392768000\n",
       "1048574   AXCFH81C3PM6O  B003H897AQ       4  1366070400\n",
       "\n",
       "[1048575 rows x 4 columns]"
      ]
     },
     "execution_count": 2,
     "metadata": {},
     "output_type": "execute_result"
    }
   ],
   "source": [
    "data = pd.read_csv('Amazon Beauty Recommendation System.csv')\n",
    "data"
   ]
  },
  {
   "cell_type": "code",
   "execution_count": 3,
   "id": "d51d05f1-6012-4abc-a244-2ce47f0f18a5",
   "metadata": {},
   "outputs": [
    {
     "name": "stdout",
     "output_type": "stream",
     "text": [
      "<class 'pandas.core.frame.DataFrame'>\n",
      "RangeIndex: 1048575 entries, 0 to 1048574\n",
      "Data columns (total 4 columns):\n",
      " #   Column     Non-Null Count    Dtype \n",
      "---  ------     --------------    ----- \n",
      " 0   UserId     1048575 non-null  object\n",
      " 1   ProductId  1048575 non-null  object\n",
      " 2   Rating     1048575 non-null  int64 \n",
      " 3   Timestamp  1048575 non-null  int64 \n",
      "dtypes: int64(2), object(2)\n",
      "memory usage: 32.0+ MB\n"
     ]
    }
   ],
   "source": [
    "data.info()"
   ]
  },
  {
   "cell_type": "code",
   "execution_count": 5,
   "id": "910c23b5-a019-4107-bdfb-de0a80f7c4e1",
   "metadata": {},
   "outputs": [
    {
     "data": {
      "text/html": [
       "<div>\n",
       "<style scoped>\n",
       "    .dataframe tbody tr th:only-of-type {\n",
       "        vertical-align: middle;\n",
       "    }\n",
       "\n",
       "    .dataframe tbody tr th {\n",
       "        vertical-align: top;\n",
       "    }\n",
       "\n",
       "    .dataframe thead th {\n",
       "        text-align: right;\n",
       "    }\n",
       "</style>\n",
       "<table border=\"1\" class=\"dataframe\">\n",
       "  <thead>\n",
       "    <tr style=\"text-align: right;\">\n",
       "      <th></th>\n",
       "      <th>UserId</th>\n",
       "      <th>ProductId</th>\n",
       "      <th>Rating</th>\n",
       "      <th>Timestamp</th>\n",
       "    </tr>\n",
       "  </thead>\n",
       "  <tbody>\n",
       "    <tr>\n",
       "      <th>0</th>\n",
       "      <td>A39HTATAQ9V7YF</td>\n",
       "      <td>205616461</td>\n",
       "      <td>5</td>\n",
       "      <td>1369699200</td>\n",
       "    </tr>\n",
       "    <tr>\n",
       "      <th>1</th>\n",
       "      <td>A3JM6GV9MNOF9X</td>\n",
       "      <td>558925278</td>\n",
       "      <td>3</td>\n",
       "      <td>1355443200</td>\n",
       "    </tr>\n",
       "    <tr>\n",
       "      <th>2</th>\n",
       "      <td>A1Z513UWSAAO0F</td>\n",
       "      <td>558925278</td>\n",
       "      <td>5</td>\n",
       "      <td>1404691200</td>\n",
       "    </tr>\n",
       "    <tr>\n",
       "      <th>3</th>\n",
       "      <td>A1WMRR494NWEWV</td>\n",
       "      <td>733001998</td>\n",
       "      <td>4</td>\n",
       "      <td>1382572800</td>\n",
       "    </tr>\n",
       "    <tr>\n",
       "      <th>4</th>\n",
       "      <td>A3IAAVS479H7M7</td>\n",
       "      <td>737104473</td>\n",
       "      <td>1</td>\n",
       "      <td>1274227200</td>\n",
       "    </tr>\n",
       "  </tbody>\n",
       "</table>\n",
       "</div>"
      ],
      "text/plain": [
       "           UserId  ProductId  Rating   Timestamp\n",
       "0  A39HTATAQ9V7YF  205616461       5  1369699200\n",
       "1  A3JM6GV9MNOF9X  558925278       3  1355443200\n",
       "2  A1Z513UWSAAO0F  558925278       5  1404691200\n",
       "3  A1WMRR494NWEWV  733001998       4  1382572800\n",
       "4  A3IAAVS479H7M7  737104473       1  1274227200"
      ]
     },
     "execution_count": 5,
     "metadata": {},
     "output_type": "execute_result"
    }
   ],
   "source": [
    "data.head()"
   ]
  },
  {
   "cell_type": "code",
   "execution_count": 6,
   "id": "efa0b663-b1e3-4746-ab76-909e8449eca4",
   "metadata": {},
   "outputs": [
    {
     "data": {
      "text/html": [
       "<div>\n",
       "<style scoped>\n",
       "    .dataframe tbody tr th:only-of-type {\n",
       "        vertical-align: middle;\n",
       "    }\n",
       "\n",
       "    .dataframe tbody tr th {\n",
       "        vertical-align: top;\n",
       "    }\n",
       "\n",
       "    .dataframe thead th {\n",
       "        text-align: right;\n",
       "    }\n",
       "</style>\n",
       "<table border=\"1\" class=\"dataframe\">\n",
       "  <thead>\n",
       "    <tr style=\"text-align: right;\">\n",
       "      <th></th>\n",
       "      <th>UserId</th>\n",
       "      <th>ProductId</th>\n",
       "      <th>Rating</th>\n",
       "      <th>Timestamp</th>\n",
       "    </tr>\n",
       "  </thead>\n",
       "  <tbody>\n",
       "    <tr>\n",
       "      <th>1048570</th>\n",
       "      <td>A31P1LMEXJ8MML</td>\n",
       "      <td>B003H897AQ</td>\n",
       "      <td>1</td>\n",
       "      <td>1334448000</td>\n",
       "    </tr>\n",
       "    <tr>\n",
       "      <th>1048571</th>\n",
       "      <td>A6U8SW1MFX122</td>\n",
       "      <td>B003H897AQ</td>\n",
       "      <td>4</td>\n",
       "      <td>1361404800</td>\n",
       "    </tr>\n",
       "    <tr>\n",
       "      <th>1048572</th>\n",
       "      <td>A2ND0PP8HY7KBE</td>\n",
       "      <td>B003H897AQ</td>\n",
       "      <td>1</td>\n",
       "      <td>1372464000</td>\n",
       "    </tr>\n",
       "    <tr>\n",
       "      <th>1048573</th>\n",
       "      <td>AC9W044EAHP8P</td>\n",
       "      <td>B003H897AQ</td>\n",
       "      <td>1</td>\n",
       "      <td>1392768000</td>\n",
       "    </tr>\n",
       "    <tr>\n",
       "      <th>1048574</th>\n",
       "      <td>AXCFH81C3PM6O</td>\n",
       "      <td>B003H897AQ</td>\n",
       "      <td>4</td>\n",
       "      <td>1366070400</td>\n",
       "    </tr>\n",
       "  </tbody>\n",
       "</table>\n",
       "</div>"
      ],
      "text/plain": [
       "                 UserId   ProductId  Rating   Timestamp\n",
       "1048570  A31P1LMEXJ8MML  B003H897AQ       1  1334448000\n",
       "1048571   A6U8SW1MFX122  B003H897AQ       4  1361404800\n",
       "1048572  A2ND0PP8HY7KBE  B003H897AQ       1  1372464000\n",
       "1048573   AC9W044EAHP8P  B003H897AQ       1  1392768000\n",
       "1048574   AXCFH81C3PM6O  B003H897AQ       4  1366070400"
      ]
     },
     "execution_count": 6,
     "metadata": {},
     "output_type": "execute_result"
    }
   ],
   "source": [
    "data.tail()"
   ]
  },
  {
   "cell_type": "code",
   "execution_count": 7,
   "id": "e323b3e9-4fe7-4ab1-9bfa-bb4259abb3dd",
   "metadata": {},
   "outputs": [
    {
     "data": {
      "text/html": [
       "<div>\n",
       "<style scoped>\n",
       "    .dataframe tbody tr th:only-of-type {\n",
       "        vertical-align: middle;\n",
       "    }\n",
       "\n",
       "    .dataframe tbody tr th {\n",
       "        vertical-align: top;\n",
       "    }\n",
       "\n",
       "    .dataframe thead th {\n",
       "        text-align: right;\n",
       "    }\n",
       "</style>\n",
       "<table border=\"1\" class=\"dataframe\">\n",
       "  <thead>\n",
       "    <tr style=\"text-align: right;\">\n",
       "      <th></th>\n",
       "      <th>Rating</th>\n",
       "      <th>Timestamp</th>\n",
       "    </tr>\n",
       "  </thead>\n",
       "  <tbody>\n",
       "    <tr>\n",
       "      <th>count</th>\n",
       "      <td>1.048575e+06</td>\n",
       "      <td>1.048575e+06</td>\n",
       "    </tr>\n",
       "    <tr>\n",
       "      <th>mean</th>\n",
       "      <td>4.176864e+00</td>\n",
       "      <td>1.345636e+09</td>\n",
       "    </tr>\n",
       "    <tr>\n",
       "      <th>std</th>\n",
       "      <td>1.306543e+00</td>\n",
       "      <td>5.567113e+07</td>\n",
       "    </tr>\n",
       "    <tr>\n",
       "      <th>min</th>\n",
       "      <td>1.000000e+00</td>\n",
       "      <td>9.087552e+08</td>\n",
       "    </tr>\n",
       "    <tr>\n",
       "      <th>25%</th>\n",
       "      <td>4.000000e+00</td>\n",
       "      <td>1.322438e+09</td>\n",
       "    </tr>\n",
       "    <tr>\n",
       "      <th>50%</th>\n",
       "      <td>5.000000e+00</td>\n",
       "      <td>1.362960e+09</td>\n",
       "    </tr>\n",
       "    <tr>\n",
       "      <th>75%</th>\n",
       "      <td>5.000000e+00</td>\n",
       "      <td>1.385856e+09</td>\n",
       "    </tr>\n",
       "    <tr>\n",
       "      <th>max</th>\n",
       "      <td>5.000000e+00</td>\n",
       "      <td>1.406074e+09</td>\n",
       "    </tr>\n",
       "  </tbody>\n",
       "</table>\n",
       "</div>"
      ],
      "text/plain": [
       "             Rating     Timestamp\n",
       "count  1.048575e+06  1.048575e+06\n",
       "mean   4.176864e+00  1.345636e+09\n",
       "std    1.306543e+00  5.567113e+07\n",
       "min    1.000000e+00  9.087552e+08\n",
       "25%    4.000000e+00  1.322438e+09\n",
       "50%    5.000000e+00  1.362960e+09\n",
       "75%    5.000000e+00  1.385856e+09\n",
       "max    5.000000e+00  1.406074e+09"
      ]
     },
     "execution_count": 7,
     "metadata": {},
     "output_type": "execute_result"
    }
   ],
   "source": [
    "data.describe()"
   ]
  },
  {
   "cell_type": "code",
   "execution_count": 8,
   "id": "c2898d00-cfb8-4be8-ace2-0bed81f14baa",
   "metadata": {},
   "outputs": [
    {
     "data": {
      "text/plain": [
       "(1048575, 4)"
      ]
     },
     "execution_count": 8,
     "metadata": {},
     "output_type": "execute_result"
    }
   ],
   "source": [
    "data.shape"
   ]
  },
  {
   "cell_type": "code",
   "execution_count": 10,
   "id": "edc50462-553b-49ab-8ad2-2eaa1654cc1e",
   "metadata": {},
   "outputs": [
    {
     "data": {
      "text/plain": [
       "4194300"
      ]
     },
     "execution_count": 10,
     "metadata": {},
     "output_type": "execute_result"
    }
   ],
   "source": [
    "data.size"
   ]
  },
  {
   "cell_type": "code",
   "execution_count": 11,
   "id": "435d6941-c657-414e-bf0a-374159285bf4",
   "metadata": {},
   "outputs": [
    {
     "data": {
      "text/plain": [
       "UserId                 ProductId   Rating  Timestamp \n",
       "A000186437REL8X2RW8UW  B000JD4N9M  5       1397088000    1\n",
       "A3IQE1S7IMHCB8         B000GHF3EA  5       1396828800    1\n",
       "A3IQB0QHVLAK92         B00004TMFE  4       1357257600    1\n",
       "A3IQBZI7IV7D6G         B002BCB3Q0  3       1401580800    1\n",
       "A3IQC018DJ4R0P         B000U1W60Q  5       1348012800    1\n",
       "                                                        ..\n",
       "A29GQQYQ7BML3P         B000C219EW  5       1391126400    1\n",
       "A29GQYPEBINZK0         B000REAKFY  2       1365811200    1\n",
       "A29GR5066FLOB8         B00067YSLO  5       1401840000    1\n",
       "A29GRPOGTTX5O2         B000BH1G3C  4       1241481600    1\n",
       "AZZZLM1E5JJ8C          B000WY1CM4  4       1354924800    1\n",
       "Name: count, Length: 1048575, dtype: int64"
      ]
     },
     "execution_count": 11,
     "metadata": {},
     "output_type": "execute_result"
    }
   ],
   "source": [
    "data.value_counts()"
   ]
  },
  {
   "cell_type": "code",
   "execution_count": 12,
   "id": "3dd4030d-870d-45ab-8cb5-cb6fca35b25d",
   "metadata": {},
   "outputs": [
    {
     "data": {
      "text/plain": [
       "UserId       object\n",
       "ProductId    object\n",
       "Rating        int64\n",
       "Timestamp     int64\n",
       "dtype: object"
      ]
     },
     "execution_count": 12,
     "metadata": {},
     "output_type": "execute_result"
    }
   ],
   "source": [
    "data.dtypes"
   ]
  },
  {
   "cell_type": "code",
   "execution_count": 14,
   "id": "a3aa3afe-37e0-40c8-a54d-a10a12fb8675",
   "metadata": {},
   "outputs": [
    {
     "data": {
      "text/plain": [
       "Index(['UserId', 'ProductId', 'Rating', 'Timestamp'], dtype='object')"
      ]
     },
     "execution_count": 14,
     "metadata": {},
     "output_type": "execute_result"
    }
   ],
   "source": [
    "data.columns"
   ]
  },
  {
   "cell_type": "markdown",
   "id": "65f8f7b6-10a4-4c8b-926b-a9b24895c2dc",
   "metadata": {},
   "source": [
    "## 1-generate unique users and products list\n"
   ]
  },
  {
   "cell_type": "code",
   "execution_count": 16,
   "id": "17779680-f8e7-414c-99f2-f2b9598e23c3",
   "metadata": {},
   "outputs": [
    {
     "name": "stdout",
     "output_type": "stream",
     "text": [
      "Total Unique Users: 736653\n",
      "Total Unique Products: 97987\n",
      "Sample Users: ['A39HTATAQ9V7YF', 'A3JM6GV9MNOF9X', 'A1Z513UWSAAO0F', 'A1WMRR494NWEWV', 'A3IAAVS479H7M7']\n",
      "Sample Products: ['205616461', '558925278', '733001998', '737104473', '762451459']\n"
     ]
    }
   ],
   "source": [
    "# Load the dataset\n",
    "import pandas as pd\n",
    "\n",
    "file_path = 'Amazon Beauty Recommendation System.csv'\n",
    "df = pd.read_csv(file_path)\n",
    "\n",
    "# Get unique users and products\n",
    "unique_users = df['UserId'].unique()\n",
    "unique_products = df['ProductId'].unique()\n",
    "\n",
    "# Convert to lists\n",
    "unique_users_list = list(unique_users)\n",
    "unique_products_list = list(unique_products)\n",
    "\n",
    "# Print sample results\n",
    "print(f\"Total Unique Users: {len(unique_users_list)}\")\n",
    "print(f\"Total Unique Products: {len(unique_products_list)}\")\n",
    "print(\"Sample Users:\", unique_users_list[:5])\n",
    "print(\"Sample Products:\", unique_products_list[:5])\n"
   ]
  },
  {
   "cell_type": "markdown",
   "id": "3dcfa079-33d5-43c6-aaa5-f7369ef99fcb",
   "metadata": {},
   "source": [
    "##pivot_table to generate a table with user id as index and product id as coluns and cell values as ratings\n"
   ]
  },
  {
   "cell_type": "code",
   "execution_count": 20,
   "id": "fa29e6e3-eaea-4c3a-a275-594917c62a8c",
   "metadata": {},
   "outputs": [
    {
     "name": "stdout",
     "output_type": "stream",
     "text": [
      "ProductId              9746427962  9790778309  9790790961  B00004TMFE  \\\n",
      "UserId                                                                  \n",
      "A02155413BVL8D0G7X6DN           0           0           0           0   \n",
      "A03364251DGXSGA9PSR99           0           0           0           0   \n",
      "A100WO06OQR8BQ                  0           0           0           0   \n",
      "A1010QRG4BH51B                  0           0           0           0   \n",
      "A101NJYKW882Y0                  0           0           0           0   \n",
      "\n",
      "ProductId              B00004TUBL  B00004TUBV  B00004U9UY  B00004U9V2  \\\n",
      "UserId                                                                  \n",
      "A02155413BVL8D0G7X6DN           0           0           0           0   \n",
      "A03364251DGXSGA9PSR99           0           0           0           0   \n",
      "A100WO06OQR8BQ                  0           0           0           0   \n",
      "A1010QRG4BH51B                  0           0           0           0   \n",
      "A101NJYKW882Y0                  0           0           0           0   \n",
      "\n",
      "ProductId              B000050B6U  B000050B75  ...  B003H1HCIM  B003H25J86  \\\n",
      "UserId                                         ...                           \n",
      "A02155413BVL8D0G7X6DN           0           0  ...           0           0   \n",
      "A03364251DGXSGA9PSR99           0           0  ...           0           0   \n",
      "A100WO06OQR8BQ                  0           0  ...           0           0   \n",
      "A1010QRG4BH51B                  0           0  ...           0           0   \n",
      "A101NJYKW882Y0                  0           0  ...           0           0   \n",
      "\n",
      "ProductId              B003H2MR2W  B003H3KLLA  B003H60F3G  B003H6C764  \\\n",
      "UserId                                                                  \n",
      "A02155413BVL8D0G7X6DN           0           0           0           0   \n",
      "A03364251DGXSGA9PSR99           0           0           0           0   \n",
      "A100WO06OQR8BQ                  0           0           0           0   \n",
      "A1010QRG4BH51B                  0           0           0           0   \n",
      "A101NJYKW882Y0                  0           0           0           0   \n",
      "\n",
      "ProductId              B003H8180I  B003H83U36  B003H87S0C  B003H897AQ  \n",
      "UserId                                                                 \n",
      "A02155413BVL8D0G7X6DN           0           0           0           0  \n",
      "A03364251DGXSGA9PSR99           0           0           0           0  \n",
      "A100WO06OQR8BQ                  0           0           0           0  \n",
      "A1010QRG4BH51B                  0           0           0           0  \n",
      "A101NJYKW882Y0                  0           0           0           0  \n",
      "\n",
      "[5 rows x 4627 columns]\n"
     ]
    }
   ],
   "source": [
    "# Load the dataset\n",
    "import pandas as pd\n",
    "\n",
    "file_path = 'Amazon Beauty Recommendation System.csv'\n",
    "df = pd.read_csv(file_path)\n",
    "\n",
    "# Reduce dataset size by filtering popular products and active users\n",
    "popular_products = df['ProductId'].value_counts().nlargest(5000).index  # Keep top 5000 products\n",
    "active_users = df['UserId'].value_counts().nlargest(5000).index  # Keep top 5000 users\n",
    "df_filtered = df[df['ProductId'].isin(popular_products) & df['UserId'].isin(active_users)]\n",
    "\n",
    "# Generate pivot table with reduced size\n",
    "pivot_table = df_filtered.pivot_table(index='UserId', columns='ProductId', values='Rating', aggfunc='mean', fill_value=0)\n",
    "\n",
    "# Convert to a sparse matrix for efficiency\n",
    "pivot_table = pivot_table.astype(pd.SparseDtype(\"float\", fill_value=0))\n",
    "\n",
    "# Display pivot table sample\n",
    "print(pivot_table.head())"
   ]
  },
  {
   "cell_type": "markdown",
   "id": "1909d9ed-b078-4aee-92e6-adedb933b796",
   "metadata": {},
   "source": [
    "##generate user user similarity matrix if ur desinging user user recommendations\n"
   ]
  },
  {
   "cell_type": "code",
   "execution_count": 22,
   "id": "26b01c17-879b-4dde-8ab3-ff7289bda1e8",
   "metadata": {},
   "outputs": [
    {
     "name": "stdout",
     "output_type": "stream",
     "text": [
      "UserId                 A02155413BVL8D0G7X6DN  A03364251DGXSGA9PSR99  \\\n",
      "UserId                                                                \n",
      "A02155413BVL8D0G7X6DN                    1.0                    0.0   \n",
      "A03364251DGXSGA9PSR99                    0.0                    1.0   \n",
      "A100WO06OQR8BQ                           0.0                    0.0   \n",
      "A1010QRG4BH51B                           0.0                    0.0   \n",
      "A101NJYKW882Y0                           0.0                    0.0   \n",
      "\n",
      "UserId                 A100WO06OQR8BQ  A1010QRG4BH51B  A101NJYKW882Y0  \\\n",
      "UserId                                                                  \n",
      "A02155413BVL8D0G7X6DN             0.0             0.0             0.0   \n",
      "A03364251DGXSGA9PSR99             0.0             0.0             0.0   \n",
      "A100WO06OQR8BQ                    1.0             0.0             0.0   \n",
      "A1010QRG4BH51B                    0.0             1.0             0.0   \n",
      "A101NJYKW882Y0                    0.0             0.0             1.0   \n",
      "\n",
      "UserId                 A102JNFLL0KW7I  A103BJIOJSDJL1  A103ZVTCQUF348  \\\n",
      "UserId                                                                  \n",
      "A02155413BVL8D0G7X6DN             0.0             0.0             0.0   \n",
      "A03364251DGXSGA9PSR99             0.0             0.0             0.0   \n",
      "A100WO06OQR8BQ                    0.0             0.0             0.0   \n",
      "A1010QRG4BH51B                    0.0             0.0             0.0   \n",
      "A101NJYKW882Y0                    0.0             0.0             0.0   \n",
      "\n",
      "UserId                 A1047EDJ84IMAS  A104BMR0QRIDSZ  ...  AZN28ZLXYIJDE  \\\n",
      "UserId                                                 ...                  \n",
      "A02155413BVL8D0G7X6DN             0.0             0.0  ...            0.0   \n",
      "A03364251DGXSGA9PSR99             0.0             0.0  ...            0.0   \n",
      "A100WO06OQR8BQ                    0.0             0.0  ...            0.0   \n",
      "A1010QRG4BH51B                    0.0             0.0  ...            0.0   \n",
      "A101NJYKW882Y0                    0.0             0.0  ...            0.0   \n",
      "\n",
      "UserId                 AZNNIVT2R0W0L  AZOO27I3Z0IQO  AZR4DVSW2NOOA  \\\n",
      "UserId                                                               \n",
      "A02155413BVL8D0G7X6DN            0.0            0.0            0.0   \n",
      "A03364251DGXSGA9PSR99            0.0            0.0            0.0   \n",
      "A100WO06OQR8BQ                   0.0            0.0            0.0   \n",
      "A1010QRG4BH51B                   0.0            0.0            0.0   \n",
      "A101NJYKW882Y0                   0.0            0.0            0.0   \n",
      "\n",
      "UserId                 AZSWYOYUCD81E  AZTZ7SIIRXLXE  AZV2AG96CRJ26  \\\n",
      "UserId                                                               \n",
      "A02155413BVL8D0G7X6DN            0.0            0.0            0.0   \n",
      "A03364251DGXSGA9PSR99            0.0            0.0            0.0   \n",
      "A100WO06OQR8BQ                   0.0            0.0            0.0   \n",
      "A1010QRG4BH51B                   0.0            0.0            0.0   \n",
      "A101NJYKW882Y0                   0.0            0.0            0.0   \n",
      "\n",
      "UserId                 AZW9UD7Z7J0WL  AZX1JTTIUYZX4  AZZT1ERHBSNQ8  \n",
      "UserId                                                              \n",
      "A02155413BVL8D0G7X6DN            0.0            0.0            0.0  \n",
      "A03364251DGXSGA9PSR99            0.0            0.0            0.0  \n",
      "A100WO06OQR8BQ                   0.0            0.0            0.0  \n",
      "A1010QRG4BH51B                   0.0            0.0            0.0  \n",
      "A101NJYKW882Y0                   0.0            0.0            0.0  \n",
      "\n",
      "[5 rows x 4931 columns]\n"
     ]
    }
   ],
   "source": [
    "user_similarity = cosine_similarity(pivot_table_sparse)\n",
    "user_similarity_df = pd.DataFrame(user_similarity, index=pivot_table.index, columns=pivot_table.index)\n",
    "\n",
    "# Display sample of user-user similarity matrix\n",
    "print(user_similarity_df.head())"
   ]
  },
  {
   "cell_type": "code",
   "execution_count": 25,
   "id": "7c66645c-bb49-4f0b-8b74-7fb765b0615c",
   "metadata": {},
   "outputs": [
    {
     "name": "stdout",
     "output_type": "stream",
     "text": [
      "ProductId   9746427962  9790778309  9790790961  B00004TMFE  B00004TUBL  \\\n",
      "ProductId                                                                \n",
      "9746427962         1.0         0.0         0.0         0.0         0.0   \n",
      "9790778309         0.0         1.0         0.0         0.0         0.0   \n",
      "9790790961         0.0         0.0         1.0         0.0         0.0   \n",
      "B00004TMFE         0.0         0.0         0.0         1.0         0.0   \n",
      "B00004TUBL         0.0         0.0         0.0         0.0         1.0   \n",
      "\n",
      "ProductId   B00004TUBV  B00004U9UY  B00004U9V2  B000050B6U  B000050B75  ...  \\\n",
      "ProductId                                                               ...   \n",
      "9746427962         0.0         0.0         0.0         0.0         0.0  ...   \n",
      "9790778309         0.0         0.0         0.0         0.0         0.0  ...   \n",
      "9790790961         0.0         0.0         0.0         0.0         0.0  ...   \n",
      "B00004TMFE         0.0         0.0         0.0         0.0         0.0  ...   \n",
      "B00004TUBL         0.0         0.0         0.0         0.0         0.0  ...   \n",
      "\n",
      "ProductId   B003H1HCIM  B003H25J86  B003H2MR2W  B003H3KLLA  B003H60F3G  \\\n",
      "ProductId                                                                \n",
      "9746427962         0.0         0.0         0.0         0.0         0.0   \n",
      "9790778309         0.0         0.0         0.0         0.0         0.0   \n",
      "9790790961         0.0         0.0         0.0         0.0         0.0   \n",
      "B00004TMFE         0.0         0.0         0.0         0.0         0.0   \n",
      "B00004TUBL         0.0         0.0         0.0         0.0         0.0   \n",
      "\n",
      "ProductId   B003H6C764  B003H8180I  B003H83U36  B003H87S0C  B003H897AQ  \n",
      "ProductId                                                               \n",
      "9746427962         0.0         0.0         0.0         0.0         0.0  \n",
      "9790778309         0.0         0.0         0.0         0.0         0.0  \n",
      "9790790961         0.0         0.0         0.0         0.0         0.0  \n",
      "B00004TMFE         0.0         0.0         0.0         0.0         0.0  \n",
      "B00004TUBL         0.0         0.0         0.0         0.0         0.0  \n",
      "\n",
      "[5 rows x 4627 columns]\n"
     ]
    }
   ],
   "source": [
    "# Compute item-item similarity using cosine similarity\n",
    "item_similarity = cosine_similarity(pivot_table_sparse.T)\n",
    "item_similarity_df = pd.DataFrame(item_similarity, index=pivot_table.columns, columns=pivot_table.columns)\n",
    "\n",
    "# Display sample of item-item similarity matrix\n",
    "print(item_similarity_df.head())\n"
   ]
  },
  {
   "cell_type": "code",
   "execution_count": 27,
   "id": "ce4268ef-a2eb-4afc-88f1-23ae41a7876e",
   "metadata": {},
   "outputs": [
    {
     "name": "stdout",
     "output_type": "stream",
     "text": [
      "ProductId   9746427962  9790778309  9790790961  B00004TMFE  B00004TUBL  \\\n",
      "ProductId                                                                \n",
      "9746427962         1.0         0.0         0.0         0.0         0.0   \n",
      "9790778309         0.0         1.0         0.0         0.0         0.0   \n",
      "9790790961         0.0         0.0         1.0         0.0         0.0   \n",
      "B00004TMFE         0.0         0.0         0.0         1.0         0.0   \n",
      "B00004TUBL         0.0         0.0         0.0         0.0         1.0   \n",
      "\n",
      "ProductId   B00004TUBV  B00004U9UY  B00004U9V2  B000050B6U  B000050B75  ...  \\\n",
      "ProductId                                                               ...   \n",
      "9746427962         0.0         0.0         0.0         0.0         0.0  ...   \n",
      "9790778309         0.0         0.0         0.0         0.0         0.0  ...   \n",
      "9790790961         0.0         0.0         0.0         0.0         0.0  ...   \n",
      "B00004TMFE         0.0         0.0         0.0         0.0         0.0  ...   \n",
      "B00004TUBL         0.0         0.0         0.0         0.0         0.0  ...   \n",
      "\n",
      "ProductId   B003H1HCIM  B003H25J86  B003H2MR2W  B003H3KLLA  B003H60F3G  \\\n",
      "ProductId                                                                \n",
      "9746427962         0.0         0.0         0.0         0.0         0.0   \n",
      "9790778309         0.0         0.0         0.0         0.0         0.0   \n",
      "9790790961         0.0         0.0         0.0         0.0         0.0   \n",
      "B00004TMFE         0.0         0.0         0.0         0.0         0.0   \n",
      "B00004TUBL         0.0         0.0         0.0         0.0         0.0   \n",
      "\n",
      "ProductId   B003H6C764  B003H8180I  B003H83U36  B003H87S0C  B003H897AQ  \n",
      "ProductId                                                               \n",
      "9746427962         0.0         0.0         0.0         0.0         0.0  \n",
      "9790778309         0.0         0.0         0.0         0.0         0.0  \n",
      "9790790961         0.0         0.0         0.0         0.0         0.0  \n",
      "B00004TMFE         0.0         0.0         0.0         0.0         0.0  \n",
      "B00004TUBL         0.0         0.0         0.0         0.0         0.0  \n",
      "\n",
      "[5 rows x 4627 columns]\n"
     ]
    }
   ],
   "source": [
    "from sklearn.preprocessing import MinMaxScaler\n",
    "# Normalize item-item similarity matrix\n",
    "scaler = MinMaxScaler()\n",
    "item_similarity_df = pd.DataFrame(scaler.fit_transform(item_similarity_df), index=item_similarity_df.index, columns=item_similarity_df.columns)\n",
    "\n",
    "# Display sample of preprocessed item-item similarity matrix\n",
    "print(item_similarity_df.head())\n"
   ]
  },
  {
   "cell_type": "code",
   "execution_count": 28,
   "id": "6343f614-d484-4568-b4b1-276613b1b496",
   "metadata": {},
   "outputs": [
    {
     "name": "stdout",
     "output_type": "stream",
     "text": [
      "Top similar users for A02155413BVL8D0G7X6DN: ['A14EGTIUFVIIS4', 'A25VUNGYCUFEN0', 'A3MPZJ19V4E34H', 'A3VPHOHZVHW9Y0', 'A9MTN0D260WAD']\n"
     ]
    }
   ],
   "source": [
    "# Function to get top similar users\n",
    "def get_top_similar_users(user_id, top_n=5):\n",
    "    if user_id not in user_similarity_df.index:\n",
    "        return []\n",
    "    similar_users = user_similarity_df[user_id].sort_values(ascending=False).iloc[1:top_n+1]\n",
    "    return similar_users.index.tolist()\n",
    "\n",
    "# Example usage\n",
    "example_user = pivot_table.index[0]  # Get a sample user\n",
    "similar_users = get_top_similar_users(example_user, top_n=5)\n",
    "print(f\"Top similar users for {example_user}: {similar_users}\")\n"
   ]
  },
  {
   "cell_type": "code",
   "execution_count": 29,
   "id": "6257e195-a852-4e9f-9ba4-be00b73046a8",
   "metadata": {},
   "outputs": [
    {
     "name": "stdout",
     "output_type": "stream",
     "text": [
      "Top similar items for 9746427962: ['B00306CISI', 'B0002Z8SE8', 'B001G3VA22', 'B001KYO08S', 'B00397SNMS']\n"
     ]
    }
   ],
   "source": [
    "# Function to get top similar items\n",
    "def get_top_similar_items(product_id, top_n=5):\n",
    "    if product_id not in item_similarity_df.index:\n",
    "        return []\n",
    "    similar_items = item_similarity_df[product_id].sort_values(ascending=False).iloc[1:top_n+1]\n",
    "    return similar_items.index.tolist()\n",
    "\n",
    "# Example usage\n",
    "example_product = pivot_table.columns[0]  # Get a sample product\n",
    "similar_items = get_top_similar_items(example_product, top_n=5)\n",
    "print(f\"Top similar items for {example_product}: {similar_items}\")\n"
   ]
  },
  {
   "cell_type": "code",
   "execution_count": 30,
   "id": "d1f7a211-f672-4388-a639-0fe8fdbecdb9",
   "metadata": {},
   "outputs": [
    {
     "name": "stdout",
     "output_type": "stream",
     "text": [
      "Recommended items for user A02155413BVL8D0G7X6DN: ['B0014LQ9JA', 'B002LE8OVA', 'B003D1TNHY', 'B002BAOMAG', 'B003FBI9KY']\n"
     ]
    }
   ],
   "source": [
    "# Function to generate recommendations for a user\n",
    "def recommend_items(user_id, top_n=5):\n",
    "    if user_id not in pivot_table.index:\n",
    "        return []\n",
    "    user_ratings = pivot_table.loc[user_id]\n",
    "    rated_items = user_ratings[user_ratings > 0].index.tolist()\n",
    "    \n",
    "    recommendations = {}\n",
    "    for item in rated_items:\n",
    "        similar_items = get_top_similar_items(item, top_n=top_n)\n",
    "        for sim_item in similar_items:\n",
    "            if sim_item not in rated_items:\n",
    "                recommendations[sim_item] = recommendations.get(sim_item, 0) + item_similarity_df.loc[item, sim_item]\n",
    "    \n",
    "    recommended_items = sorted(recommendations, key=recommendations.get, reverse=True)[:top_n]\n",
    "    return recommended_items\n",
    "\n",
    "# Example usage\n",
    "example_user = pivot_table.index[0]  # Get a sample user\n",
    "recommended_items = recommend_items(example_user, top_n=5)\n",
    "print(f\"Recommended items for user {example_user}: {recommended_items}\")\n"
   ]
  },
  {
   "cell_type": "code",
   "execution_count": null,
   "id": "abc33e2c-7fd9-414f-8d31-1a7ae85d726f",
   "metadata": {},
   "outputs": [],
   "source": []
  }
 ],
 "metadata": {
  "kernelspec": {
   "display_name": "Python 3 (ipykernel)",
   "language": "python",
   "name": "python3"
  },
  "language_info": {
   "codemirror_mode": {
    "name": "ipython",
    "version": 3
   },
   "file_extension": ".py",
   "mimetype": "text/x-python",
   "name": "python",
   "nbconvert_exporter": "python",
   "pygments_lexer": "ipython3",
   "version": "3.12.7"
  }
 },
 "nbformat": 4,
 "nbformat_minor": 5
}
